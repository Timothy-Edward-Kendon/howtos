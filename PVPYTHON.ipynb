{
 "cells": [
  {
   "cell_type": "markdown",
   "metadata": {},
   "source": [
    "#### <u> Python in paraview (Introduction to pvpython) </u> \n",
    "\n",
    "##### <u> Setup </u>\n",
    "\n",
    "1. Download paraview version with python.\n",
    "2. Alias pvpython under the bin folder and add LD_PRELOAD information for library conflicts e.g.\n",
    "\n",
    "    ```sh\n",
    "    alias pvpython \"env LD_PRELOAD=/prog/MarOpSim/CFDTools/ParaView/ParaView-5.8.1-MPI-Linux-Python3.7-64bit/lib/libz.so.1 /prog/MarOpSim/CFDTools/ParaView/ParaView-5.8.1-MPI-Linux-Python3.7-64bit/bin/pvpython\n",
    "    ```\n",
    "3. Similarly alias pvbatch under the bin folder \n",
    "\n",
    "\n",
    "##### <u> Differences between pvpython versus pvbatch </u>\n",
    "\n",
    "Both pvpython and pvbatch can be used to run a python script. Differences are\n",
    "\n",
    "- pvpython cannot be run in parallel whereas pvbatch can if the script is setup to run in parallel, for example\n",
    "    ```sh\n",
    "    mpirun -np 8 pvbatch paraview_script.py\n",
    "    ```\n",
    "- pvbatch does not allow a view to be Rendered to screen.\n",
    "- pvpython can be run without a script in interactive mode.\n",
    "\n",
    "\n",
    "\n",
    "##### <u> Simple Sphere render </u>\n",
    "\n",
    "From the command line type\n",
    "\n",
    "\n"
   ]
  },
  {
   "cell_type": "code",
   "execution_count": null,
   "metadata": {},
   "outputs": [
    {
     "ename": "",
     "evalue": "",
     "output_type": "error",
     "traceback": [
      "\u001b[1;31mFailed to start the Kernel. \n",
      "View Jupyter <a href='command:jupyter.viewOutput'>log</a> for further details."
     ]
    }
   ],
   "source": [
    "from paraview.simple import *\n",
    "Sphere()\n",
    "Show()\n",
    "Render()\n",
    "Interact() # Focus view (click on it) and press 'Q' to regain control of console"
   ]
  },
  {
   "cell_type": "markdown",
   "metadata": {},
   "source": [
    "#### <u> Loading OpenFOAM data </u>\n",
    "Create an empty foam file in the case directory e.g. ```touch background.foam```. The script below loads the case data and selects only the internalMesh and the 'Courant number'-field  for plotting. The Courant number field in this case is named 'Co'; however, the name is user-defined, so replace with whatever you have called it."
   ]
  },
  {
   "cell_type": "code",
   "execution_count": null,
   "metadata": {},
   "outputs": [],
   "source": [
    "from paraview.simple import *\n",
    "openFOAMReader1 = OpenFOAMReader(FileName=\"background.foam\")\n",
    "openFOAMReader1.MeshRegions = ['internalMesh']\n",
    "openFOAMReader1.CellArrays = ['Co']"
   ]
  },
  {
   "cell_type": "markdown",
   "metadata": {},
   "source": [
    "##### <u> Getting sources </u>\n",
    "\n",
    "Once your view is populated with sources, the different sources get be identified with the `GetSources()` command. This will return a dictionary of sources e.g.  \n",
    "\n",
    "```python\n",
    "{('OpenFOAMReader1', '317'): <paraview.servermanager.OpenFOAMReader object at 0x2baae5cc6dd0>, ('Sphere1', '569'): <paraview.servermanager.Sphere object at 0x2baae5d23e50>}\n",
    "```\n",
    "\n",
    "To access a source, the function `FindSource` can be used e.g.\n",
    "\n",
    "```python\n",
    "source = FindSource(\"OpenFOAMReader1\")\n",
    "```\n",
    "\n",
    "Or, to get the active source, the function `GetActiveSource` can be used \n",
    "\n",
    "```python\n",
    "source = GetActiveSource()\n",
    "```\n"
   ]
  }
 ],
 "metadata": {
  "interpreter": {
   "hash": "6714ff4be2e0c4018323d2a9ab1b283abc2ece0bee52b84664d97b775e78954f"
  },
  "kernelspec": {
   "display_name": "Python 3.7.4 64-bit",
   "language": "python",
   "name": "python3"
  },
  "language_info": {
   "name": "python",
   "version": "3.7.4"
  },
  "orig_nbformat": 4
 },
 "nbformat": 4,
 "nbformat_minor": 2
}
